{
  "cells": [
    {
      "cell_type": "code",
      "execution_count": 141,
      "id": "2fc70a85",
      "metadata": {
        "id": "2fc70a85",
        "colab": {
          "base_uri": "https://localhost:8080/",
          "height": 36
        },
        "outputId": "1229da50-3b5f-4dde-b11d-67b03ef873e4"
      },
      "outputs": [
        {
          "output_type": "execute_result",
          "data": {
            "text/plain": [
              "'\\nGeoChemBoost-GCV Training Notebook\\n'"
            ],
            "application/vnd.google.colaboratory.intrinsic+json": {
              "type": "string"
            }
          },
          "metadata": {},
          "execution_count": 141
        }
      ],
      "source": [
        "\"\"\"\n",
        "GeoChemBoost-GCV Training Notebook\n",
        "\"\"\""
      ]
    },
    {
      "cell_type": "code",
      "execution_count": 142,
      "id": "af18d8f9",
      "metadata": {
        "id": "af18d8f9"
      },
      "outputs": [],
      "source": [
        "# ----------------------------------\n",
        "# Step 0: Imports\n",
        "# ----------------------------------\n",
        "import pandas as pd\n",
        "import numpy as np\n",
        "import tensorflow as tf\n",
        "from tensorflow import keras\n",
        "from tensorflow.keras import layers\n",
        "import xgboost as xgb\n",
        "from sklearn.model_selection import train_test_split\n",
        "from sklearn.preprocessing import StandardScaler\n",
        "from sklearn.metrics import mean_squared_error, mean_absolute_error, r2_score\n",
        "import pickle  # For saving models and scaler\n",
        "import os\n",
        "import matplotlib.pyplot as plt # Added for plotting"
      ]
    },
    {
      "cell_type": "code",
      "execution_count": 143,
      "id": "b8c85727",
      "metadata": {
        "colab": {
          "base_uri": "https://localhost:8080/"
        },
        "id": "b8c85727",
        "outputId": "b8f8cb4d-f791-4ba6-8e86-c114091fd1a0"
      },
      "outputs": [
        {
          "output_type": "stream",
          "name": "stdout",
          "text": [
            "Successfully loaded data with shape: (331, 6)\n",
            "First 5 rows:\n",
            "    Moisture    Ash     VM     FC   GCV  Serial\n",
            "0      3.58  55.04  16.80  24.58  2928       9\n",
            "1      3.77  40.87  21.28  34.08  4152       6\n",
            "2      3.23  56.67  14.46  23.64  2826       9\n",
            "3      3.90  44.15  20.59  31.36  3844       7\n",
            "4      3.71  45.35  20.66  30.28  3718       7\n"
          ]
        }
      ],
      "source": [
        "# ----------------------------------\n",
        "# Step 2: Data Loading & Initial Prep\n",
        "# ----------------------------------\n",
        "df = pd.read_excel(\"Dataset4.xlsx\")\n",
        "print(f\"Successfully loaded data with shape: {df.shape}\")\n",
        "print(\"First 5 rows:\\n\", df.head())"
      ]
    },
    {
      "cell_type": "code",
      "execution_count": 144,
      "id": "34aacfd9",
      "metadata": {
        "id": "34aacfd9"
      },
      "outputs": [],
      "source": [
        "# --- Column Names in your Excel file ---\n",
        "# Make sure these match your Excel columns EXACTLY\n",
        "moisture_col = 'Moisture' # Example: As Received Basis\n",
        "ash_col = 'Ash'           # Example: As Received Basis\n",
        "vm_col = 'VM'             # Example: As Received Basis\n",
        "fc_col = 'FC'\n",
        "gcv_col = 'GCV'           # Example: GCV in MJ/kg or kcal/kg (must be consistent)"
      ]
    },
    {
      "cell_type": "code",
      "execution_count": 145,
      "id": "b7a9266f",
      "metadata": {
        "id": "b7a9266f"
      },
      "outputs": [],
      "source": [
        "# --- Identify Feature and Target Columns ---\n",
        "feature_cols = [moisture_col, ash_col, vm_col, fc_col]\n",
        "target_col = gcv_col"
      ]
    },
    {
      "cell_type": "code",
      "execution_count": 146,
      "id": "514f76e2",
      "metadata": {
        "colab": {
          "base_uri": "https://localhost:8080/"
        },
        "id": "514f76e2",
        "outputId": "21bfb6bc-db18-4cdd-dcf9-55d4dbd9c985"
      },
      "outputs": [
        {
          "output_type": "stream",
          "name": "stdout",
          "text": [
            "Columns used as features: ['Moisture', 'Ash', 'VM', 'FC']\n",
            "Column used as target: GCV\n"
          ]
        }
      ],
      "source": [
        "# # --- Calculate Fixed Carbon (FC) ---\n",
        "# fc_col = 'FC_calculated'\n",
        "# df[fc_col] = 100 - (df[moisture_col] + df[ash_col] + df[vm_col])\n",
        "# # Ensure FC is not negative (can happen with measurement errors)\n",
        "# df[fc_col] = df[fc_col].clip(lower=0)\n",
        "# feature_cols.append(fc_col) # Add FC to our features\n",
        "# print(f\"\\nCalculated '{fc_col}' and added to features.\")\n",
        "print(\"Columns used as features:\", feature_cols)\n",
        "print(\"Column used as target:\", target_col)"
      ]
    },
    {
      "cell_type": "code",
      "execution_count": 147,
      "id": "bd5279ce",
      "metadata": {
        "id": "bd5279ce"
      },
      "outputs": [],
      "source": [
        "# --- Handle Missing Values (Example: Simple Imputation or Dropping) ---\n",
        "df.dropna(inplace=True)"
      ]
    },
    {
      "cell_type": "code",
      "execution_count": 148,
      "id": "2d29daa7",
      "metadata": {
        "id": "2d29daa7"
      },
      "outputs": [],
      "source": [
        "# --- Define X (features) and y (target) ---\n",
        "X = df[feature_cols]\n",
        "y = df[target_col]"
      ]
    },
    {
      "cell_type": "code",
      "execution_count": 149,
      "id": "e726880c",
      "metadata": {
        "colab": {
          "base_uri": "https://localhost:8080/"
        },
        "id": "e726880c",
        "outputId": "1509880a-0b46-4f75-b1d5-c7b79ac60ea0"
      },
      "outputs": [
        {
          "output_type": "stream",
          "name": "stdout",
          "text": [
            "\n",
            "--- Data Preparation Summary ---\n",
            "Features shape: (331, 4)\n",
            "Target shape: (331,)\n"
          ]
        }
      ],
      "source": [
        "print(\"\\n--- Data Preparation Summary ---\")\n",
        "print(f\"Features shape: {X.shape}\")\n",
        "print(f\"Target shape: {y.shape}\")"
      ]
    },
    {
      "cell_type": "code",
      "execution_count": 150,
      "id": "9268275d",
      "metadata": {
        "id": "9268275d"
      },
      "outputs": [],
      "source": [
        "# --- Model & Training Parameters ---\n",
        "TEST_SIZE = 0.20           # Percentage of data for testing\n",
        "RANDOM_STATE = 42        # For reproducibility"
      ]
    },
    {
      "cell_type": "code",
      "execution_count": 151,
      "id": "661cd1bb",
      "metadata": {
        "colab": {
          "base_uri": "https://localhost:8080/"
        },
        "id": "661cd1bb",
        "outputId": "bd9d1719-0222-47d6-bc3d-2de654e303ba"
      },
      "outputs": [
        {
          "output_type": "stream",
          "name": "stdout",
          "text": [
            "\n",
            "--- Splitting Data into Training and Testing Sets ---\n",
            "Training set shape: X=(264, 4), y=(264,)\n",
            "Testing set shape: X=(67, 4), y=(67,)\n"
          ]
        }
      ],
      "source": [
        "# ----------------------------------\n",
        "# Step 3: Data Splitting\n",
        "# ----------------------------------\n",
        "print(\"\\n--- Splitting Data into Training and Testing Sets ---\")\n",
        "X_train, X_test, y_train, y_test = train_test_split(\n",
        "    X, y, test_size=TEST_SIZE, random_state=RANDOM_STATE\n",
        ")\n",
        "print(f\"Training set shape: X={X_train.shape}, y={y_train.shape}\")\n",
        "print(f\"Testing set shape: X={X_test.shape}, y={y_test.shape}\")"
      ]
    },
    {
      "cell_type": "code",
      "execution_count": 152,
      "id": "013c1354",
      "metadata": {
        "colab": {
          "base_uri": "https://localhost:8080/"
        },
        "id": "013c1354",
        "outputId": "e053d618-3249-43cb-f420-e967f3d947d3"
      },
      "outputs": [
        {
          "output_type": "stream",
          "name": "stdout",
          "text": [
            "\n",
            "--- Scaling Feature Data ---\n",
            "Data successfully scaled.\n"
          ]
        }
      ],
      "source": [
        "# ----------------------------------\n",
        "# Step 4: Preprocessing (Scaling)\n",
        "# ----------------------------------\n",
        "print(\"\\n--- Scaling Feature Data ---\")\n",
        "scaler = StandardScaler()\n",
        "X_train_scaled = scaler.fit_transform(X_train)\n",
        "X_test_scaled = scaler.transform(X_test)\n",
        "print(\"Data successfully scaled.\")"
      ]
    },
    {
      "cell_type": "code",
      "execution_count": 153,
      "id": "0864101e",
      "metadata": {
        "colab": {
          "base_uri": "https://localhost:8080/"
        },
        "id": "0864101e",
        "outputId": "9cfafa4c-20f6-418e-8d48-9907fc6337fe"
      },
      "outputs": [
        {
          "output_type": "stream",
          "name": "stdout",
          "text": [
            "\n",
            "--- Defining GFEN Model (Keras) ---\n"
          ]
        }
      ],
      "source": [
        "# ----------------------------------\n",
        "# Step 5: Define the GFEN Model (Keras) - Revised Approach\n",
        "# ----------------------------------\n",
        "print(\"\\n--- Defining GFEN Model (Keras) ---\")"
      ]
    },
    {
      "cell_type": "code",
      "execution_count": 154,
      "id": "7aedb0ac",
      "metadata": {
        "id": "7aedb0ac"
      },
      "outputs": [],
      "source": [
        "# GFEN Parameters\n",
        "embedding_dim = 8        # Dimension of the learned embedding vector\n",
        "gfen_hidden_units = [32, 16] # Number of neurons in GFEN hidden layers\n",
        "gfen_epochs = 50           # Number of training epochs for GFEN\n",
        "gfen_batch_size = 16       # Batch size for GFEN training\n",
        "gfen_learning_rate = 0.001\n",
        "dropout_rate = 0.1         # Dropout rate for GFEN regularization"
      ]
    },
    {
      "cell_type": "code",
      "execution_count": 155,
      "id": "03db366b",
      "metadata": {
        "id": "03db366b"
      },
      "outputs": [],
      "source": [
        "# Define the input layer *separately*\n",
        "input_shape = (X_train_scaled.shape[1],)\n",
        "inputs = keras.Input(shape=input_shape, name=\"Input_Layer\")"
      ]
    },
    {
      "cell_type": "code",
      "execution_count": 156,
      "id": "655a3920",
      "metadata": {
        "id": "655a3920"
      },
      "outputs": [],
      "source": [
        "# Build the GFEN layers starting from the defined input\n",
        "x = inputs\n",
        "for units in gfen_hidden_units:\n",
        "    x = layers.Dense(units, activation=\"relu\")(x)\n",
        "    x = layers.Dropout(dropout_rate)(x)"
      ]
    },
    {
      "cell_type": "code",
      "execution_count": 157,
      "id": "c35bc049",
      "metadata": {
        "id": "c35bc049"
      },
      "outputs": [],
      "source": [
        "# Embedding Layer\n",
        "embedding_output = layers.Dense(embedding_dim, activation=\"linear\", name=\"Embedding_Layer\")(x)"
      ]
    },
    {
      "cell_type": "code",
      "execution_count": 158,
      "id": "702d2338",
      "metadata": {
        "id": "702d2338"
      },
      "outputs": [],
      "source": [
        "# Output Layer (Predicting GCV for training purposes)\n",
        "gcv_prediction_output = layers.Dense(1, activation=\"linear\", name=\"Output_GCV_Prediction\")(embedding_output)"
      ]
    },
    {
      "cell_type": "code",
      "execution_count": 159,
      "id": "7ec66572",
      "metadata": {
        "id": "7ec66572"
      },
      "outputs": [],
      "source": [
        "# Create the *predictor* model (Input -> GCV Prediction)\n",
        "gfen_predictor_model = keras.Model(inputs=inputs, outputs=gcv_prediction_output, name=\"GFEN_Predictor\")"
      ]
    },
    {
      "cell_type": "code",
      "execution_count": 160,
      "id": "df688ece",
      "metadata": {
        "id": "df688ece"
      },
      "outputs": [],
      "source": [
        "# Compile the predictor model\n",
        "optimizer = tf.keras.optimizers.Adam(learning_rate=gfen_learning_rate)\n",
        "gfen_predictor_model.compile(loss='mean_squared_error', optimizer=optimizer, metrics=['mae', 'mse'])"
      ]
    },
    {
      "cell_type": "code",
      "execution_count": 161,
      "id": "4c4edcf7",
      "metadata": {
        "colab": {
          "base_uri": "https://localhost:8080/",
          "height": 388
        },
        "id": "4c4edcf7",
        "outputId": "d8106638-9f98-46f1-fd12-2c636ef277be"
      },
      "outputs": [
        {
          "output_type": "stream",
          "name": "stdout",
          "text": [
            "\n",
            "GFEN Predictor Model Summary:\n"
          ]
        },
        {
          "output_type": "display_data",
          "data": {
            "text/plain": [
              "\u001b[1mModel: \"GFEN_Predictor\"\u001b[0m\n"
            ],
            "text/html": [
              "<pre style=\"white-space:pre;overflow-x:auto;line-height:normal;font-family:Menlo,'DejaVu Sans Mono',consolas,'Courier New',monospace\"><span style=\"font-weight: bold\">Model: \"GFEN_Predictor\"</span>\n",
              "</pre>\n"
            ]
          },
          "metadata": {}
        },
        {
          "output_type": "display_data",
          "data": {
            "text/plain": [
              "┏━━━━━━━━━━━━━━━━━━━━━━━━━━━━━━━━━┳━━━━━━━━━━━━━━━━━━━━━━━━┳━━━━━━━━━━━━━━━┓\n",
              "┃\u001b[1m \u001b[0m\u001b[1mLayer (type)                   \u001b[0m\u001b[1m \u001b[0m┃\u001b[1m \u001b[0m\u001b[1mOutput Shape          \u001b[0m\u001b[1m \u001b[0m┃\u001b[1m \u001b[0m\u001b[1m      Param #\u001b[0m\u001b[1m \u001b[0m┃\n",
              "┡━━━━━━━━━━━━━━━━━━━━━━━━━━━━━━━━━╇━━━━━━━━━━━━━━━━━━━━━━━━╇━━━━━━━━━━━━━━━┩\n",
              "│ Input_Layer (\u001b[38;5;33mInputLayer\u001b[0m)        │ (\u001b[38;5;45mNone\u001b[0m, \u001b[38;5;34m4\u001b[0m)              │             \u001b[38;5;34m0\u001b[0m │\n",
              "├─────────────────────────────────┼────────────────────────┼───────────────┤\n",
              "│ dense_6 (\u001b[38;5;33mDense\u001b[0m)                 │ (\u001b[38;5;45mNone\u001b[0m, \u001b[38;5;34m32\u001b[0m)             │           \u001b[38;5;34m160\u001b[0m │\n",
              "├─────────────────────────────────┼────────────────────────┼───────────────┤\n",
              "│ dropout_6 (\u001b[38;5;33mDropout\u001b[0m)             │ (\u001b[38;5;45mNone\u001b[0m, \u001b[38;5;34m32\u001b[0m)             │             \u001b[38;5;34m0\u001b[0m │\n",
              "├─────────────────────────────────┼────────────────────────┼───────────────┤\n",
              "│ dense_7 (\u001b[38;5;33mDense\u001b[0m)                 │ (\u001b[38;5;45mNone\u001b[0m, \u001b[38;5;34m16\u001b[0m)             │           \u001b[38;5;34m528\u001b[0m │\n",
              "├─────────────────────────────────┼────────────────────────┼───────────────┤\n",
              "│ dropout_7 (\u001b[38;5;33mDropout\u001b[0m)             │ (\u001b[38;5;45mNone\u001b[0m, \u001b[38;5;34m16\u001b[0m)             │             \u001b[38;5;34m0\u001b[0m │\n",
              "├─────────────────────────────────┼────────────────────────┼───────────────┤\n",
              "│ Embedding_Layer (\u001b[38;5;33mDense\u001b[0m)         │ (\u001b[38;5;45mNone\u001b[0m, \u001b[38;5;34m8\u001b[0m)              │           \u001b[38;5;34m136\u001b[0m │\n",
              "├─────────────────────────────────┼────────────────────────┼───────────────┤\n",
              "│ Output_GCV_Prediction (\u001b[38;5;33mDense\u001b[0m)   │ (\u001b[38;5;45mNone\u001b[0m, \u001b[38;5;34m1\u001b[0m)              │             \u001b[38;5;34m9\u001b[0m │\n",
              "└─────────────────────────────────┴────────────────────────┴───────────────┘\n"
            ],
            "text/html": [
              "<pre style=\"white-space:pre;overflow-x:auto;line-height:normal;font-family:Menlo,'DejaVu Sans Mono',consolas,'Courier New',monospace\">┏━━━━━━━━━━━━━━━━━━━━━━━━━━━━━━━━━┳━━━━━━━━━━━━━━━━━━━━━━━━┳━━━━━━━━━━━━━━━┓\n",
              "┃<span style=\"font-weight: bold\"> Layer (type)                    </span>┃<span style=\"font-weight: bold\"> Output Shape           </span>┃<span style=\"font-weight: bold\">       Param # </span>┃\n",
              "┡━━━━━━━━━━━━━━━━━━━━━━━━━━━━━━━━━╇━━━━━━━━━━━━━━━━━━━━━━━━╇━━━━━━━━━━━━━━━┩\n",
              "│ Input_Layer (<span style=\"color: #0087ff; text-decoration-color: #0087ff\">InputLayer</span>)        │ (<span style=\"color: #00d7ff; text-decoration-color: #00d7ff\">None</span>, <span style=\"color: #00af00; text-decoration-color: #00af00\">4</span>)              │             <span style=\"color: #00af00; text-decoration-color: #00af00\">0</span> │\n",
              "├─────────────────────────────────┼────────────────────────┼───────────────┤\n",
              "│ dense_6 (<span style=\"color: #0087ff; text-decoration-color: #0087ff\">Dense</span>)                 │ (<span style=\"color: #00d7ff; text-decoration-color: #00d7ff\">None</span>, <span style=\"color: #00af00; text-decoration-color: #00af00\">32</span>)             │           <span style=\"color: #00af00; text-decoration-color: #00af00\">160</span> │\n",
              "├─────────────────────────────────┼────────────────────────┼───────────────┤\n",
              "│ dropout_6 (<span style=\"color: #0087ff; text-decoration-color: #0087ff\">Dropout</span>)             │ (<span style=\"color: #00d7ff; text-decoration-color: #00d7ff\">None</span>, <span style=\"color: #00af00; text-decoration-color: #00af00\">32</span>)             │             <span style=\"color: #00af00; text-decoration-color: #00af00\">0</span> │\n",
              "├─────────────────────────────────┼────────────────────────┼───────────────┤\n",
              "│ dense_7 (<span style=\"color: #0087ff; text-decoration-color: #0087ff\">Dense</span>)                 │ (<span style=\"color: #00d7ff; text-decoration-color: #00d7ff\">None</span>, <span style=\"color: #00af00; text-decoration-color: #00af00\">16</span>)             │           <span style=\"color: #00af00; text-decoration-color: #00af00\">528</span> │\n",
              "├─────────────────────────────────┼────────────────────────┼───────────────┤\n",
              "│ dropout_7 (<span style=\"color: #0087ff; text-decoration-color: #0087ff\">Dropout</span>)             │ (<span style=\"color: #00d7ff; text-decoration-color: #00d7ff\">None</span>, <span style=\"color: #00af00; text-decoration-color: #00af00\">16</span>)             │             <span style=\"color: #00af00; text-decoration-color: #00af00\">0</span> │\n",
              "├─────────────────────────────────┼────────────────────────┼───────────────┤\n",
              "│ Embedding_Layer (<span style=\"color: #0087ff; text-decoration-color: #0087ff\">Dense</span>)         │ (<span style=\"color: #00d7ff; text-decoration-color: #00d7ff\">None</span>, <span style=\"color: #00af00; text-decoration-color: #00af00\">8</span>)              │           <span style=\"color: #00af00; text-decoration-color: #00af00\">136</span> │\n",
              "├─────────────────────────────────┼────────────────────────┼───────────────┤\n",
              "│ Output_GCV_Prediction (<span style=\"color: #0087ff; text-decoration-color: #0087ff\">Dense</span>)   │ (<span style=\"color: #00d7ff; text-decoration-color: #00d7ff\">None</span>, <span style=\"color: #00af00; text-decoration-color: #00af00\">1</span>)              │             <span style=\"color: #00af00; text-decoration-color: #00af00\">9</span> │\n",
              "└─────────────────────────────────┴────────────────────────┴───────────────┘\n",
              "</pre>\n"
            ]
          },
          "metadata": {}
        },
        {
          "output_type": "display_data",
          "data": {
            "text/plain": [
              "\u001b[1m Total params: \u001b[0m\u001b[38;5;34m833\u001b[0m (3.25 KB)\n"
            ],
            "text/html": [
              "<pre style=\"white-space:pre;overflow-x:auto;line-height:normal;font-family:Menlo,'DejaVu Sans Mono',consolas,'Courier New',monospace\"><span style=\"font-weight: bold\"> Total params: </span><span style=\"color: #00af00; text-decoration-color: #00af00\">833</span> (3.25 KB)\n",
              "</pre>\n"
            ]
          },
          "metadata": {}
        },
        {
          "output_type": "display_data",
          "data": {
            "text/plain": [
              "\u001b[1m Trainable params: \u001b[0m\u001b[38;5;34m833\u001b[0m (3.25 KB)\n"
            ],
            "text/html": [
              "<pre style=\"white-space:pre;overflow-x:auto;line-height:normal;font-family:Menlo,'DejaVu Sans Mono',consolas,'Courier New',monospace\"><span style=\"font-weight: bold\"> Trainable params: </span><span style=\"color: #00af00; text-decoration-color: #00af00\">833</span> (3.25 KB)\n",
              "</pre>\n"
            ]
          },
          "metadata": {}
        },
        {
          "output_type": "display_data",
          "data": {
            "text/plain": [
              "\u001b[1m Non-trainable params: \u001b[0m\u001b[38;5;34m0\u001b[0m (0.00 B)\n"
            ],
            "text/html": [
              "<pre style=\"white-space:pre;overflow-x:auto;line-height:normal;font-family:Menlo,'DejaVu Sans Mono',consolas,'Courier New',monospace\"><span style=\"font-weight: bold\"> Non-trainable params: </span><span style=\"color: #00af00; text-decoration-color: #00af00\">0</span> (0.00 B)\n",
              "</pre>\n"
            ]
          },
          "metadata": {}
        }
      ],
      "source": [
        "print(\"\\nGFEN Predictor Model Summary:\")\n",
        "gfen_predictor_model.summary()"
      ]
    },
    {
      "cell_type": "code",
      "execution_count": 162,
      "id": "0f04c4f7",
      "metadata": {
        "colab": {
          "base_uri": "https://localhost:8080/"
        },
        "id": "0f04c4f7",
        "outputId": "7aedc170-bf58-4e25-ab99-7cd0a4b619d3"
      },
      "outputs": [
        {
          "output_type": "stream",
          "name": "stdout",
          "text": [
            "\n",
            "--- Training GFEN Predictor Model ---\n"
          ]
        }
      ],
      "source": [
        "# ----------------------------------\n",
        "# Step 6: Train the GFEN Predictor Model\n",
        "# ----------------------------------\n",
        "print(\"\\n--- Training GFEN Predictor Model ---\")\n",
        "early_stopping = tf.keras.callbacks.EarlyStopping(monitor='val_loss', patience=10, restore_best_weights=True)"
      ]
    },
    {
      "cell_type": "code",
      "execution_count": 163,
      "id": "49f4aff4",
      "metadata": {
        "colab": {
          "base_uri": "https://localhost:8080/"
        },
        "id": "49f4aff4",
        "outputId": "cdc55aff-5236-47cb-b63b-d46c1423cffe"
      },
      "outputs": [
        {
          "output_type": "stream",
          "name": "stdout",
          "text": [
            "Epoch 1/50\n",
            "\u001b[1m14/14\u001b[0m \u001b[32m━━━━━━━━━━━━━━━━━━━━\u001b[0m\u001b[37m\u001b[0m \u001b[1m2s\u001b[0m 24ms/step - loss: 21858030.0000 - mae: 4561.0854 - mse: 21858030.0000 - val_loss: 20934044.0000 - val_mae: 4485.1084 - val_mse: 20934044.0000\n",
            "Epoch 2/50\n",
            "\u001b[1m14/14\u001b[0m \u001b[32m━━━━━━━━━━━━━━━━━━━━\u001b[0m\u001b[37m\u001b[0m \u001b[1m0s\u001b[0m 9ms/step - loss: 21740394.0000 - mae: 4550.2642 - mse: 21740394.0000 - val_loss: 20928166.0000 - val_mae: 4484.4561 - val_mse: 20928166.0000\n",
            "Epoch 3/50\n",
            "\u001b[1m14/14\u001b[0m \u001b[32m━━━━━━━━━━━━━━━━━━━━\u001b[0m\u001b[37m\u001b[0m \u001b[1m0s\u001b[0m 7ms/step - loss: 22017578.0000 - mae: 4592.0854 - mse: 22017578.0000 - val_loss: 20919850.0000 - val_mae: 4483.5430 - val_mse: 20919850.0000\n",
            "Epoch 4/50\n",
            "\u001b[1m14/14\u001b[0m \u001b[32m━━━━━━━━━━━━━━━━━━━━\u001b[0m\u001b[37m\u001b[0m \u001b[1m0s\u001b[0m 8ms/step - loss: 22086186.0000 - mae: 4579.0190 - mse: 22086186.0000 - val_loss: 20907370.0000 - val_mae: 4482.1763 - val_mse: 20907370.0000\n",
            "Epoch 5/50\n",
            "\u001b[1m14/14\u001b[0m \u001b[32m━━━━━━━━━━━━━━━━━━━━\u001b[0m\u001b[37m\u001b[0m \u001b[1m0s\u001b[0m 7ms/step - loss: 21694720.0000 - mae: 4542.0981 - mse: 21694720.0000 - val_loss: 20888928.0000 - val_mae: 4480.1582 - val_mse: 20888928.0000\n",
            "Epoch 6/50\n",
            "\u001b[1m14/14\u001b[0m \u001b[32m━━━━━━━━━━━━━━━━━━━━\u001b[0m\u001b[37m\u001b[0m \u001b[1m0s\u001b[0m 8ms/step - loss: 21228746.0000 - mae: 4478.3813 - mse: 21228746.0000 - val_loss: 20861480.0000 - val_mae: 4477.1519 - val_mse: 20861480.0000\n",
            "Epoch 7/50\n",
            "\u001b[1m14/14\u001b[0m \u001b[32m━━━━━━━━━━━━━━━━━━━━\u001b[0m\u001b[37m\u001b[0m \u001b[1m0s\u001b[0m 7ms/step - loss: 21551140.0000 - mae: 4533.9146 - mse: 21551140.0000 - val_loss: 20820980.0000 - val_mae: 4472.7266 - val_mse: 20820980.0000\n",
            "Epoch 8/50\n",
            "\u001b[1m14/14\u001b[0m \u001b[32m━━━━━━━━━━━━━━━━━━━━\u001b[0m\u001b[37m\u001b[0m \u001b[1m0s\u001b[0m 7ms/step - loss: 22088690.0000 - mae: 4585.0503 - mse: 22088690.0000 - val_loss: 20761516.0000 - val_mae: 4466.2432 - val_mse: 20761516.0000\n",
            "Epoch 9/50\n",
            "\u001b[1m14/14\u001b[0m \u001b[32m━━━━━━━━━━━━━━━━━━━━\u001b[0m\u001b[37m\u001b[0m \u001b[1m0s\u001b[0m 9ms/step - loss: 21838790.0000 - mae: 4562.9092 - mse: 21838790.0000 - val_loss: 20678058.0000 - val_mae: 4457.1108 - val_mse: 20678058.0000\n",
            "Epoch 10/50\n",
            "\u001b[1m14/14\u001b[0m \u001b[32m━━━━━━━━━━━━━━━━━━━━\u001b[0m\u001b[37m\u001b[0m \u001b[1m0s\u001b[0m 7ms/step - loss: 21296764.0000 - mae: 4492.7510 - mse: 21296764.0000 - val_loss: 20563452.0000 - val_mae: 4444.5684 - val_mse: 20563452.0000\n",
            "Epoch 11/50\n",
            "\u001b[1m14/14\u001b[0m \u001b[32m━━━━━━━━━━━━━━━━━━━━\u001b[0m\u001b[37m\u001b[0m \u001b[1m0s\u001b[0m 7ms/step - loss: 21780626.0000 - mae: 4556.7983 - mse: 21780626.0000 - val_loss: 20407852.0000 - val_mae: 4427.5088 - val_mse: 20407852.0000\n",
            "Epoch 12/50\n",
            "\u001b[1m14/14\u001b[0m \u001b[32m━━━━━━━━━━━━━━━━━━━━\u001b[0m\u001b[37m\u001b[0m \u001b[1m0s\u001b[0m 7ms/step - loss: 21602208.0000 - mae: 4544.4282 - mse: 21602208.0000 - val_loss: 20202348.0000 - val_mae: 4404.8340 - val_mse: 20202348.0000\n",
            "Epoch 13/50\n",
            "\u001b[1m14/14\u001b[0m \u001b[32m━━━━━━━━━━━━━━━━━━━━\u001b[0m\u001b[37m\u001b[0m \u001b[1m0s\u001b[0m 8ms/step - loss: 21279650.0000 - mae: 4510.7573 - mse: 21279650.0000 - val_loss: 19934090.0000 - val_mae: 4375.2061 - val_mse: 19934090.0000\n",
            "Epoch 14/50\n",
            "\u001b[1m14/14\u001b[0m \u001b[32m━━━━━━━━━━━━━━━━━━━━\u001b[0m\u001b[37m\u001b[0m \u001b[1m0s\u001b[0m 8ms/step - loss: 20852710.0000 - mae: 4467.4946 - mse: 20852710.0000 - val_loss: 19595792.0000 - val_mae: 4337.5029 - val_mse: 19595792.0000\n",
            "Epoch 15/50\n",
            "\u001b[1m14/14\u001b[0m \u001b[32m━━━━━━━━━━━━━━━━━━━━\u001b[0m\u001b[37m\u001b[0m \u001b[1m0s\u001b[0m 7ms/step - loss: 20086298.0000 - mae: 4375.9980 - mse: 20086298.0000 - val_loss: 19178726.0000 - val_mae: 4290.6157 - val_mse: 19178726.0000\n",
            "Epoch 16/50\n",
            "\u001b[1m14/14\u001b[0m \u001b[32m━━━━━━━━━━━━━━━━━━━━\u001b[0m\u001b[37m\u001b[0m \u001b[1m0s\u001b[0m 8ms/step - loss: 19523886.0000 - mae: 4296.9688 - mse: 19523886.0000 - val_loss: 18664266.0000 - val_mae: 4231.9497 - val_mse: 18664266.0000\n",
            "Epoch 17/50\n",
            "\u001b[1m14/14\u001b[0m \u001b[32m━━━━━━━━━━━━━━━━━━━━\u001b[0m\u001b[37m\u001b[0m \u001b[1m0s\u001b[0m 8ms/step - loss: 19091800.0000 - mae: 4262.9346 - mse: 19091800.0000 - val_loss: 18060308.0000 - val_mae: 4161.7388 - val_mse: 18060308.0000\n",
            "Epoch 18/50\n",
            "\u001b[1m14/14\u001b[0m \u001b[32m━━━━━━━━━━━━━━━━━━━━\u001b[0m\u001b[37m\u001b[0m \u001b[1m0s\u001b[0m 8ms/step - loss: 19214778.0000 - mae: 4287.8667 - mse: 19214778.0000 - val_loss: 17345396.0000 - val_mae: 4077.1558 - val_mse: 17345396.0000\n",
            "Epoch 19/50\n",
            "\u001b[1m14/14\u001b[0m \u001b[32m━━━━━━━━━━━━━━━━━━━━\u001b[0m\u001b[37m\u001b[0m \u001b[1m0s\u001b[0m 7ms/step - loss: 17312976.0000 - mae: 4042.8750 - mse: 17312976.0000 - val_loss: 16549038.0000 - val_mae: 3979.6707 - val_mse: 16549038.0000\n",
            "Epoch 20/50\n",
            "\u001b[1m14/14\u001b[0m \u001b[32m━━━━━━━━━━━━━━━━━━━━\u001b[0m\u001b[37m\u001b[0m \u001b[1m0s\u001b[0m 7ms/step - loss: 16566015.0000 - mae: 3952.3235 - mse: 16566015.0000 - val_loss: 15635888.0000 - val_mae: 3864.8718 - val_mse: 15635888.0000\n",
            "Epoch 21/50\n",
            "\u001b[1m14/14\u001b[0m \u001b[32m━━━━━━━━━━━━━━━━━━━━\u001b[0m\u001b[37m\u001b[0m \u001b[1m0s\u001b[0m 8ms/step - loss: 15170684.0000 - mae: 3784.7686 - mse: 15170684.0000 - val_loss: 14635011.0000 - val_mae: 3733.9656 - val_mse: 14635011.0000\n",
            "Epoch 22/50\n",
            "\u001b[1m14/14\u001b[0m \u001b[32m━━━━━━━━━━━━━━━━━━━━\u001b[0m\u001b[37m\u001b[0m \u001b[1m0s\u001b[0m 7ms/step - loss: 13916540.0000 - mae: 3598.4250 - mse: 13916540.0000 - val_loss: 13536558.0000 - val_mae: 3583.9988 - val_mse: 13536558.0000\n",
            "Epoch 23/50\n",
            "\u001b[1m14/14\u001b[0m \u001b[32m━━━━━━━━━━━━━━━━━━━━\u001b[0m\u001b[37m\u001b[0m \u001b[1m0s\u001b[0m 8ms/step - loss: 13319410.0000 - mae: 3524.7419 - mse: 13319410.0000 - val_loss: 12374478.0000 - val_mae: 3420.2759 - val_mse: 12374478.0000\n",
            "Epoch 24/50\n",
            "\u001b[1m14/14\u001b[0m \u001b[32m━━━━━━━━━━━━━━━━━━━━\u001b[0m\u001b[37m\u001b[0m \u001b[1m0s\u001b[0m 7ms/step - loss: 12006109.0000 - mae: 3341.1111 - mse: 12006109.0000 - val_loss: 11207271.0000 - val_mae: 3255.2507 - val_mse: 11207271.0000\n",
            "Epoch 25/50\n",
            "\u001b[1m14/14\u001b[0m \u001b[32m━━━━━━━━━━━━━━━━━━━━\u001b[0m\u001b[37m\u001b[0m \u001b[1m0s\u001b[0m 8ms/step - loss: 10638182.0000 - mae: 3126.8679 - mse: 10638182.0000 - val_loss: 10033758.0000 - val_mae: 3076.3372 - val_mse: 10033758.0000\n",
            "Epoch 26/50\n",
            "\u001b[1m14/14\u001b[0m \u001b[32m━━━━━━━━━━━━━━━━━━━━\u001b[0m\u001b[37m\u001b[0m \u001b[1m0s\u001b[0m 8ms/step - loss: 9666526.0000 - mae: 2966.9636 - mse: 9666526.0000 - val_loss: 8897858.0000 - val_mae: 2886.9529 - val_mse: 8897858.0000\n",
            "Epoch 27/50\n",
            "\u001b[1m14/14\u001b[0m \u001b[32m━━━━━━━━━━━━━━━━━━━━\u001b[0m\u001b[37m\u001b[0m \u001b[1m0s\u001b[0m 8ms/step - loss: 7894215.0000 - mae: 2654.6392 - mse: 7894215.0000 - val_loss: 7850425.0000 - val_mae: 2693.5723 - val_mse: 7850425.0000\n",
            "Epoch 28/50\n",
            "\u001b[1m14/14\u001b[0m \u001b[32m━━━━━━━━━━━━━━━━━━━━\u001b[0m\u001b[37m\u001b[0m \u001b[1m0s\u001b[0m 8ms/step - loss: 6672232.5000 - mae: 2385.2180 - mse: 6672232.5000 - val_loss: 6902128.0000 - val_mae: 2497.0093 - val_mse: 6902128.0000\n",
            "Epoch 29/50\n",
            "\u001b[1m14/14\u001b[0m \u001b[32m━━━━━━━━━━━━━━━━━━━━\u001b[0m\u001b[37m\u001b[0m \u001b[1m0s\u001b[0m 8ms/step - loss: 6311762.0000 - mae: 2301.5071 - mse: 6311762.0000 - val_loss: 6093370.5000 - val_mae: 2306.9973 - val_mse: 6093370.5000\n",
            "Epoch 30/50\n",
            "\u001b[1m14/14\u001b[0m \u001b[32m━━━━━━━━━━━━━━━━━━━━\u001b[0m\u001b[37m\u001b[0m \u001b[1m0s\u001b[0m 8ms/step - loss: 5486664.5000 - mae: 2068.0337 - mse: 5486664.5000 - val_loss: 5478525.0000 - val_mae: 2142.3191 - val_mse: 5478525.0000\n",
            "Epoch 31/50\n",
            "\u001b[1m14/14\u001b[0m \u001b[32m━━━━━━━━━━━━━━━━━━━━\u001b[0m\u001b[37m\u001b[0m \u001b[1m0s\u001b[0m 8ms/step - loss: 4455706.0000 - mae: 1864.8928 - mse: 4455706.0000 - val_loss: 4918606.5000 - val_mae: 1970.0006 - val_mse: 4918606.5000\n",
            "Epoch 32/50\n",
            "\u001b[1m14/14\u001b[0m \u001b[32m━━━━━━━━━━━━━━━━━━━━\u001b[0m\u001b[37m\u001b[0m \u001b[1m0s\u001b[0m 8ms/step - loss: 4283047.5000 - mae: 1834.6707 - mse: 4283047.5000 - val_loss: 4506132.5000 - val_mae: 1845.2761 - val_mse: 4506132.5000\n",
            "Epoch 33/50\n",
            "\u001b[1m14/14\u001b[0m \u001b[32m━━━━━━━━━━━━━━━━━━━━\u001b[0m\u001b[37m\u001b[0m \u001b[1m0s\u001b[0m 7ms/step - loss: 4277946.5000 - mae: 1828.5857 - mse: 4277946.5000 - val_loss: 4172970.0000 - val_mae: 1778.8093 - val_mse: 4172970.0000\n",
            "Epoch 34/50\n",
            "\u001b[1m14/14\u001b[0m \u001b[32m━━━━━━━━━━━━━━━━━━━━\u001b[0m\u001b[37m\u001b[0m \u001b[1m0s\u001b[0m 8ms/step - loss: 3797517.5000 - mae: 1646.0255 - mse: 3797517.5000 - val_loss: 3983182.7500 - val_mae: 1737.4056 - val_mse: 3983182.7500\n",
            "Epoch 35/50\n",
            "\u001b[1m14/14\u001b[0m \u001b[32m━━━━━━━━━━━━━━━━━━━━\u001b[0m\u001b[37m\u001b[0m \u001b[1m0s\u001b[0m 7ms/step - loss: 3280170.5000 - mae: 1556.1572 - mse: 3280170.5000 - val_loss: 3808102.0000 - val_mae: 1694.6188 - val_mse: 3808102.0000\n",
            "Epoch 36/50\n",
            "\u001b[1m14/14\u001b[0m \u001b[32m━━━━━━━━━━━━━━━━━━━━\u001b[0m\u001b[37m\u001b[0m \u001b[1m0s\u001b[0m 7ms/step - loss: 3140885.0000 - mae: 1514.3162 - mse: 3140885.0000 - val_loss: 3634634.0000 - val_mae: 1651.0297 - val_mse: 3634634.0000\n",
            "Epoch 37/50\n",
            "\u001b[1m14/14\u001b[0m \u001b[32m━━━━━━━━━━━━━━━━━━━━\u001b[0m\u001b[37m\u001b[0m \u001b[1m0s\u001b[0m 8ms/step - loss: 3160242.7500 - mae: 1481.9683 - mse: 3160242.7500 - val_loss: 3524110.7500 - val_mae: 1627.8411 - val_mse: 3524110.7500\n",
            "Epoch 38/50\n",
            "\u001b[1m14/14\u001b[0m \u001b[32m━━━━━━━━━━━━━━━━━━━━\u001b[0m\u001b[37m\u001b[0m \u001b[1m0s\u001b[0m 7ms/step - loss: 3086033.5000 - mae: 1508.0503 - mse: 3086033.5000 - val_loss: 3430600.0000 - val_mae: 1611.8004 - val_mse: 3430600.0000\n",
            "Epoch 39/50\n",
            "\u001b[1m14/14\u001b[0m \u001b[32m━━━━━━━━━━━━━━━━━━━━\u001b[0m\u001b[37m\u001b[0m \u001b[1m0s\u001b[0m 8ms/step - loss: 3157074.2500 - mae: 1537.6296 - mse: 3157074.2500 - val_loss: 3339637.5000 - val_mae: 1593.9467 - val_mse: 3339637.5000\n",
            "Epoch 40/50\n",
            "\u001b[1m14/14\u001b[0m \u001b[32m━━━━━━━━━━━━━━━━━━━━\u001b[0m\u001b[37m\u001b[0m \u001b[1m0s\u001b[0m 8ms/step - loss: 3317370.5000 - mae: 1448.5325 - mse: 3317370.5000 - val_loss: 3271026.0000 - val_mae: 1578.5983 - val_mse: 3271026.0000\n",
            "Epoch 41/50\n",
            "\u001b[1m14/14\u001b[0m \u001b[32m━━━━━━━━━━━━━━━━━━━━\u001b[0m\u001b[37m\u001b[0m \u001b[1m0s\u001b[0m 8ms/step - loss: 3486387.0000 - mae: 1602.9240 - mse: 3486387.0000 - val_loss: 3196114.7500 - val_mae: 1559.7399 - val_mse: 3196114.7500\n",
            "Epoch 42/50\n",
            "\u001b[1m14/14\u001b[0m \u001b[32m━━━━━━━━━━━━━━━━━━━━\u001b[0m\u001b[37m\u001b[0m \u001b[1m0s\u001b[0m 7ms/step - loss: 3453979.2500 - mae: 1544.3042 - mse: 3453979.2500 - val_loss: 3125017.5000 - val_mae: 1541.8734 - val_mse: 3125017.5000\n",
            "Epoch 43/50\n",
            "\u001b[1m14/14\u001b[0m \u001b[32m━━━━━━━━━━━━━━━━━━━━\u001b[0m\u001b[37m\u001b[0m \u001b[1m0s\u001b[0m 7ms/step - loss: 3029294.5000 - mae: 1403.4523 - mse: 3029294.5000 - val_loss: 3054378.2500 - val_mae: 1524.7318 - val_mse: 3054378.2500\n",
            "Epoch 44/50\n",
            "\u001b[1m14/14\u001b[0m \u001b[32m━━━━━━━━━━━━━━━━━━━━\u001b[0m\u001b[37m\u001b[0m \u001b[1m0s\u001b[0m 7ms/step - loss: 2931095.5000 - mae: 1465.1211 - mse: 2931095.5000 - val_loss: 2965786.0000 - val_mae: 1503.3728 - val_mse: 2965786.0000\n",
            "Epoch 45/50\n",
            "\u001b[1m14/14\u001b[0m \u001b[32m━━━━━━━━━━━━━━━━━━━━\u001b[0m\u001b[37m\u001b[0m \u001b[1m0s\u001b[0m 7ms/step - loss: 2569893.7500 - mae: 1378.7814 - mse: 2569893.7500 - val_loss: 2881818.7500 - val_mae: 1483.2029 - val_mse: 2881818.7500\n",
            "Epoch 46/50\n",
            "\u001b[1m14/14\u001b[0m \u001b[32m━━━━━━━━━━━━━━━━━━━━\u001b[0m\u001b[37m\u001b[0m \u001b[1m0s\u001b[0m 8ms/step - loss: 2875197.0000 - mae: 1484.6178 - mse: 2875197.0000 - val_loss: 2787405.7500 - val_mae: 1459.9358 - val_mse: 2787405.7500\n",
            "Epoch 47/50\n",
            "\u001b[1m14/14\u001b[0m \u001b[32m━━━━━━━━━━━━━━━━━━━━\u001b[0m\u001b[37m\u001b[0m \u001b[1m0s\u001b[0m 10ms/step - loss: 2934703.2500 - mae: 1453.7983 - mse: 2934703.2500 - val_loss: 2699657.0000 - val_mae: 1436.6824 - val_mse: 2699657.0000\n",
            "Epoch 48/50\n",
            "\u001b[1m14/14\u001b[0m \u001b[32m━━━━━━━━━━━━━━━━━━━━\u001b[0m\u001b[37m\u001b[0m \u001b[1m0s\u001b[0m 7ms/step - loss: 3012096.2500 - mae: 1411.1622 - mse: 3012096.2500 - val_loss: 2625160.5000 - val_mae: 1418.7156 - val_mse: 2625160.5000\n",
            "Epoch 49/50\n",
            "\u001b[1m14/14\u001b[0m \u001b[32m━━━━━━━━━━━━━━━━━━━━\u001b[0m\u001b[37m\u001b[0m \u001b[1m0s\u001b[0m 7ms/step - loss: 2429137.0000 - mae: 1351.2802 - mse: 2429137.0000 - val_loss: 2529564.0000 - val_mae: 1395.3997 - val_mse: 2529564.0000\n",
            "Epoch 50/50\n",
            "\u001b[1m14/14\u001b[0m \u001b[32m━━━━━━━━━━━━━━━━━━━━\u001b[0m\u001b[37m\u001b[0m \u001b[1m0s\u001b[0m 8ms/step - loss: 2664674.0000 - mae: 1378.9757 - mse: 2664674.0000 - val_loss: 2472809.2500 - val_mae: 1376.6425 - val_mse: 2472809.2500\n"
          ]
        }
      ],
      "source": [
        "history = gfen_predictor_model.fit(\n",
        "    X_train_scaled, y_train,\n",
        "    epochs=gfen_epochs,\n",
        "    batch_size=gfen_batch_size,\n",
        "    validation_split=0.15, # Use part of training data for validation\n",
        "    callbacks=[early_stopping],\n",
        "    verbose=1 # Set to 0 for less output, 1 for progress bar\n",
        ")"
      ]
    },
    {
      "cell_type": "code",
      "execution_count": 164,
      "id": "593383cc",
      "metadata": {
        "colab": {
          "base_uri": "https://localhost:8080/"
        },
        "id": "593383cc",
        "outputId": "bb641b54-4455-4d91-a4a8-90390fcf6a66"
      },
      "outputs": [
        {
          "output_type": "stream",
          "name": "stdout",
          "text": [
            "GFEN Predictor training finished.\n"
          ]
        }
      ],
      "source": [
        "print(\"GFEN Predictor training finished.\")"
      ]
    },
    {
      "cell_type": "code",
      "execution_count": 165,
      "id": "0501c46d",
      "metadata": {
        "colab": {
          "base_uri": "https://localhost:8080/"
        },
        "id": "0501c46d",
        "outputId": "6fd43abc-1992-46b2-8d07-350868c11acc"
      },
      "outputs": [
        {
          "output_type": "stream",
          "name": "stdout",
          "text": [
            "\n",
            "--- Creating GFEN Embedder Model & Extracting Embeddings ---\n"
          ]
        }
      ],
      "source": [
        "# ----------------------------------\n",
        "# Step 7: Create the Embedder Model & Extract Embeddings\n",
        "# ----------------------------------\n",
        "print(\"\\n--- Creating GFEN Embedder Model & Extracting Embeddings ---\")"
      ]
    },
    {
      "cell_type": "code",
      "execution_count": 166,
      "id": "76e036fb",
      "metadata": {
        "id": "76e036fb"
      },
      "outputs": [],
      "source": [
        "# Create the *embedder* model (Input -> Embedding Layer Output)\n",
        "# We reuse the 'inputs' tensor and the 'embedding_output' tensor defined earlier\n",
        "gfen_embedder_model = keras.Model(inputs=inputs, outputs=embedding_output, name=\"GFEN_Embedder\")"
      ]
    },
    {
      "cell_type": "code",
      "execution_count": 167,
      "id": "9356b9e3",
      "metadata": {
        "colab": {
          "base_uri": "https://localhost:8080/",
          "height": 356
        },
        "id": "9356b9e3",
        "outputId": "50ff1fdc-a285-47fd-a13f-66cf89029e7e"
      },
      "outputs": [
        {
          "output_type": "stream",
          "name": "stdout",
          "text": [
            "\n",
            "GFEN Embedder Model Summary:\n"
          ]
        },
        {
          "output_type": "display_data",
          "data": {
            "text/plain": [
              "\u001b[1mModel: \"GFEN_Embedder\"\u001b[0m\n"
            ],
            "text/html": [
              "<pre style=\"white-space:pre;overflow-x:auto;line-height:normal;font-family:Menlo,'DejaVu Sans Mono',consolas,'Courier New',monospace\"><span style=\"font-weight: bold\">Model: \"GFEN_Embedder\"</span>\n",
              "</pre>\n"
            ]
          },
          "metadata": {}
        },
        {
          "output_type": "display_data",
          "data": {
            "text/plain": [
              "┏━━━━━━━━━━━━━━━━━━━━━━━━━━━━━━━━━┳━━━━━━━━━━━━━━━━━━━━━━━━┳━━━━━━━━━━━━━━━┓\n",
              "┃\u001b[1m \u001b[0m\u001b[1mLayer (type)                   \u001b[0m\u001b[1m \u001b[0m┃\u001b[1m \u001b[0m\u001b[1mOutput Shape          \u001b[0m\u001b[1m \u001b[0m┃\u001b[1m \u001b[0m\u001b[1m      Param #\u001b[0m\u001b[1m \u001b[0m┃\n",
              "┡━━━━━━━━━━━━━━━━━━━━━━━━━━━━━━━━━╇━━━━━━━━━━━━━━━━━━━━━━━━╇━━━━━━━━━━━━━━━┩\n",
              "│ Input_Layer (\u001b[38;5;33mInputLayer\u001b[0m)        │ (\u001b[38;5;45mNone\u001b[0m, \u001b[38;5;34m4\u001b[0m)              │             \u001b[38;5;34m0\u001b[0m │\n",
              "├─────────────────────────────────┼────────────────────────┼───────────────┤\n",
              "│ dense_6 (\u001b[38;5;33mDense\u001b[0m)                 │ (\u001b[38;5;45mNone\u001b[0m, \u001b[38;5;34m32\u001b[0m)             │           \u001b[38;5;34m160\u001b[0m │\n",
              "├─────────────────────────────────┼────────────────────────┼───────────────┤\n",
              "│ dropout_6 (\u001b[38;5;33mDropout\u001b[0m)             │ (\u001b[38;5;45mNone\u001b[0m, \u001b[38;5;34m32\u001b[0m)             │             \u001b[38;5;34m0\u001b[0m │\n",
              "├─────────────────────────────────┼────────────────────────┼───────────────┤\n",
              "│ dense_7 (\u001b[38;5;33mDense\u001b[0m)                 │ (\u001b[38;5;45mNone\u001b[0m, \u001b[38;5;34m16\u001b[0m)             │           \u001b[38;5;34m528\u001b[0m │\n",
              "├─────────────────────────────────┼────────────────────────┼───────────────┤\n",
              "│ dropout_7 (\u001b[38;5;33mDropout\u001b[0m)             │ (\u001b[38;5;45mNone\u001b[0m, \u001b[38;5;34m16\u001b[0m)             │             \u001b[38;5;34m0\u001b[0m │\n",
              "├─────────────────────────────────┼────────────────────────┼───────────────┤\n",
              "│ Embedding_Layer (\u001b[38;5;33mDense\u001b[0m)         │ (\u001b[38;5;45mNone\u001b[0m, \u001b[38;5;34m8\u001b[0m)              │           \u001b[38;5;34m136\u001b[0m │\n",
              "└─────────────────────────────────┴────────────────────────┴───────────────┘\n"
            ],
            "text/html": [
              "<pre style=\"white-space:pre;overflow-x:auto;line-height:normal;font-family:Menlo,'DejaVu Sans Mono',consolas,'Courier New',monospace\">┏━━━━━━━━━━━━━━━━━━━━━━━━━━━━━━━━━┳━━━━━━━━━━━━━━━━━━━━━━━━┳━━━━━━━━━━━━━━━┓\n",
              "┃<span style=\"font-weight: bold\"> Layer (type)                    </span>┃<span style=\"font-weight: bold\"> Output Shape           </span>┃<span style=\"font-weight: bold\">       Param # </span>┃\n",
              "┡━━━━━━━━━━━━━━━━━━━━━━━━━━━━━━━━━╇━━━━━━━━━━━━━━━━━━━━━━━━╇━━━━━━━━━━━━━━━┩\n",
              "│ Input_Layer (<span style=\"color: #0087ff; text-decoration-color: #0087ff\">InputLayer</span>)        │ (<span style=\"color: #00d7ff; text-decoration-color: #00d7ff\">None</span>, <span style=\"color: #00af00; text-decoration-color: #00af00\">4</span>)              │             <span style=\"color: #00af00; text-decoration-color: #00af00\">0</span> │\n",
              "├─────────────────────────────────┼────────────────────────┼───────────────┤\n",
              "│ dense_6 (<span style=\"color: #0087ff; text-decoration-color: #0087ff\">Dense</span>)                 │ (<span style=\"color: #00d7ff; text-decoration-color: #00d7ff\">None</span>, <span style=\"color: #00af00; text-decoration-color: #00af00\">32</span>)             │           <span style=\"color: #00af00; text-decoration-color: #00af00\">160</span> │\n",
              "├─────────────────────────────────┼────────────────────────┼───────────────┤\n",
              "│ dropout_6 (<span style=\"color: #0087ff; text-decoration-color: #0087ff\">Dropout</span>)             │ (<span style=\"color: #00d7ff; text-decoration-color: #00d7ff\">None</span>, <span style=\"color: #00af00; text-decoration-color: #00af00\">32</span>)             │             <span style=\"color: #00af00; text-decoration-color: #00af00\">0</span> │\n",
              "├─────────────────────────────────┼────────────────────────┼───────────────┤\n",
              "│ dense_7 (<span style=\"color: #0087ff; text-decoration-color: #0087ff\">Dense</span>)                 │ (<span style=\"color: #00d7ff; text-decoration-color: #00d7ff\">None</span>, <span style=\"color: #00af00; text-decoration-color: #00af00\">16</span>)             │           <span style=\"color: #00af00; text-decoration-color: #00af00\">528</span> │\n",
              "├─────────────────────────────────┼────────────────────────┼───────────────┤\n",
              "│ dropout_7 (<span style=\"color: #0087ff; text-decoration-color: #0087ff\">Dropout</span>)             │ (<span style=\"color: #00d7ff; text-decoration-color: #00d7ff\">None</span>, <span style=\"color: #00af00; text-decoration-color: #00af00\">16</span>)             │             <span style=\"color: #00af00; text-decoration-color: #00af00\">0</span> │\n",
              "├─────────────────────────────────┼────────────────────────┼───────────────┤\n",
              "│ Embedding_Layer (<span style=\"color: #0087ff; text-decoration-color: #0087ff\">Dense</span>)         │ (<span style=\"color: #00d7ff; text-decoration-color: #00d7ff\">None</span>, <span style=\"color: #00af00; text-decoration-color: #00af00\">8</span>)              │           <span style=\"color: #00af00; text-decoration-color: #00af00\">136</span> │\n",
              "└─────────────────────────────────┴────────────────────────┴───────────────┘\n",
              "</pre>\n"
            ]
          },
          "metadata": {}
        },
        {
          "output_type": "display_data",
          "data": {
            "text/plain": [
              "\u001b[1m Total params: \u001b[0m\u001b[38;5;34m824\u001b[0m (3.22 KB)\n"
            ],
            "text/html": [
              "<pre style=\"white-space:pre;overflow-x:auto;line-height:normal;font-family:Menlo,'DejaVu Sans Mono',consolas,'Courier New',monospace\"><span style=\"font-weight: bold\"> Total params: </span><span style=\"color: #00af00; text-decoration-color: #00af00\">824</span> (3.22 KB)\n",
              "</pre>\n"
            ]
          },
          "metadata": {}
        },
        {
          "output_type": "display_data",
          "data": {
            "text/plain": [
              "\u001b[1m Trainable params: \u001b[0m\u001b[38;5;34m824\u001b[0m (3.22 KB)\n"
            ],
            "text/html": [
              "<pre style=\"white-space:pre;overflow-x:auto;line-height:normal;font-family:Menlo,'DejaVu Sans Mono',consolas,'Courier New',monospace\"><span style=\"font-weight: bold\"> Trainable params: </span><span style=\"color: #00af00; text-decoration-color: #00af00\">824</span> (3.22 KB)\n",
              "</pre>\n"
            ]
          },
          "metadata": {}
        },
        {
          "output_type": "display_data",
          "data": {
            "text/plain": [
              "\u001b[1m Non-trainable params: \u001b[0m\u001b[38;5;34m0\u001b[0m (0.00 B)\n"
            ],
            "text/html": [
              "<pre style=\"white-space:pre;overflow-x:auto;line-height:normal;font-family:Menlo,'DejaVu Sans Mono',consolas,'Courier New',monospace\"><span style=\"font-weight: bold\"> Non-trainable params: </span><span style=\"color: #00af00; text-decoration-color: #00af00\">0</span> (0.00 B)\n",
              "</pre>\n"
            ]
          },
          "metadata": {}
        }
      ],
      "source": [
        "print(\"\\nGFEN Embedder Model Summary:\")\n",
        "gfen_embedder_model.summary() # Show the embedder model structure"
      ]
    },
    {
      "cell_type": "code",
      "execution_count": 168,
      "id": "b0336781",
      "metadata": {
        "colab": {
          "base_uri": "https://localhost:8080/"
        },
        "id": "b0336781",
        "outputId": "9fb257ba-53d2-4ba1-a61f-edffa6e06f9c"
      },
      "outputs": [
        {
          "output_type": "stream",
          "name": "stdout",
          "text": [
            "\u001b[1m9/9\u001b[0m \u001b[32m━━━━━━━━━━━━━━━━━━━━\u001b[0m\u001b[37m\u001b[0m \u001b[1m0s\u001b[0m 7ms/step \n",
            "\u001b[1m3/3\u001b[0m \u001b[32m━━━━━━━━━━━━━━━━━━━━\u001b[0m\u001b[37m\u001b[0m \u001b[1m0s\u001b[0m 12ms/step\n"
          ]
        }
      ],
      "source": [
        "# Extract Embeddings using the embedder model\n",
        "X_train_embeddings = gfen_embedder_model.predict(X_train_scaled)\n",
        "X_test_embeddings = gfen_embedder_model.predict(X_test_scaled)"
      ]
    },
    {
      "cell_type": "code",
      "execution_count": 169,
      "id": "c15fe550",
      "metadata": {
        "colab": {
          "base_uri": "https://localhost:8080/"
        },
        "id": "c15fe550",
        "outputId": "d1b2d3ed-fe2b-40e0-d71e-e657bf903895"
      },
      "outputs": [
        {
          "output_type": "stream",
          "name": "stdout",
          "text": [
            "Shape of training embeddings: (264, 8)\n",
            "Shape of testing embeddings: (67, 8)\n"
          ]
        }
      ],
      "source": [
        "print(f\"Shape of training embeddings: {X_train_embeddings.shape}\")\n",
        "print(f\"Shape of testing embeddings: {X_test_embeddings.shape}\")"
      ]
    },
    {
      "cell_type": "code",
      "execution_count": 170,
      "id": "788a5607",
      "metadata": {
        "colab": {
          "base_uri": "https://localhost:8080/"
        },
        "id": "788a5607",
        "outputId": "0a6baa7a-128c-43bf-ec82-618e82597b57"
      },
      "outputs": [
        {
          "output_type": "stream",
          "name": "stdout",
          "text": [
            "\n",
            "--- Preparing Combined Features for XGBoost ---\n"
          ]
        }
      ],
      "source": [
        "# ----------------------------------\n",
        "# Step 8: Prepare Data for GBM\n",
        "# ----------------------------------\n",
        "print(\"\\n--- Preparing Combined Features for XGBoost ---\")\n",
        "# Concatenate original scaled features and the learned embeddings\n",
        "X_train_combined = np.concatenate([X_train_scaled, X_train_embeddings], axis=1)\n",
        "X_test_combined = np.concatenate([X_test_scaled, X_test_embeddings], axis=1)"
      ]
    },
    {
      "cell_type": "code",
      "execution_count": 171,
      "id": "a6c087f1",
      "metadata": {
        "colab": {
          "base_uri": "https://localhost:8080/"
        },
        "id": "a6c087f1",
        "outputId": "53be686b-9298-4f10-ead9-22bc58695fa4"
      },
      "outputs": [
        {
          "output_type": "stream",
          "name": "stdout",
          "text": [
            "Shape of combined training features: (264, 12)\n",
            "Shape of combined testing features: (67, 12)\n"
          ]
        }
      ],
      "source": [
        "print(f\"Shape of combined training features: {X_train_combined.shape}\")\n",
        "print(f\"Shape of combined testing features: {X_test_combined.shape}\")"
      ]
    },
    {
      "cell_type": "code",
      "execution_count": 172,
      "id": "a18acc03",
      "metadata": {
        "id": "a18acc03"
      },
      "outputs": [],
      "source": [
        "# XGBoost Parameters (These often require tuning)\n",
        "xgb_n_estimators = 200\n",
        "xgb_learning_rate = 0.1\n",
        "xgb_max_depth = 5\n",
        "xgb_subsample = 0.8\n",
        "xgb_colsample_bytree = 0.8"
      ]
    },
    {
      "cell_type": "code",
      "source": [
        "from xgboost.callback import EarlyStopping"
      ],
      "metadata": {
        "id": "nmlBrSlPPoLH"
      },
      "id": "nmlBrSlPPoLH",
      "execution_count": 173,
      "outputs": []
    },
    {
      "cell_type": "code",
      "execution_count": 174,
      "id": "c0c01ac0",
      "metadata": {
        "colab": {
          "base_uri": "https://localhost:8080/"
        },
        "id": "c0c01ac0",
        "outputId": "48dc1d1a-e152-4d0e-9a43-471f2fd23636"
      },
      "outputs": [
        {
          "output_type": "stream",
          "name": "stdout",
          "text": [
            "\n",
            "--- Defining and Training Final XGBoost Model ---\n"
          ]
        }
      ],
      "source": [
        "# ----------------------------------\n",
        "# Step 9: Define and Train the GBM Model (XGBoost)\n",
        "# ----------------------------------\n",
        "print(\"\\n--- Defining and Training Final XGBoost Model ---\")\n",
        "xgb_model = xgb.XGBRegressor(\n",
        "    objective='reg:squarederror', # Objective function for regression\n",
        "    n_estimators=xgb_n_estimators,\n",
        "    learning_rate=xgb_learning_rate,\n",
        "    max_depth=xgb_max_depth,\n",
        "    subsample=xgb_subsample,\n",
        "    colsample_bytree=xgb_colsample_bytree,\n",
        "    random_state=RANDOM_STATE,\n",
        "    n_jobs=-1 # Use all available CPU cores\n",
        ")"
      ]
    },
    {
      "cell_type": "code",
      "source": [
        "# Create the EarlyStopping callback instance\n",
        "# Note: The parameter inside the callback is 'rounds'\n",
        "early_stopping_callback = EarlyStopping(rounds=15, # Use 'rounds' here\n",
        "                                       save_best=True) # Optionally save the best model internally\n",
        "\n",
        "print(\"Training XGBoost model with Early Stopping Callback...\") # Added print statement\n"
      ],
      "metadata": {
        "colab": {
          "base_uri": "https://localhost:8080/"
        },
        "id": "2RDXJdHBP0GF",
        "outputId": "33acc6f7-8b34-4326-c139-6fdae9e4943e"
      },
      "id": "2RDXJdHBP0GF",
      "execution_count": 175,
      "outputs": [
        {
          "output_type": "stream",
          "name": "stdout",
          "text": [
            "Training XGBoost model with Early Stopping Callback...\n"
          ]
        }
      ]
    },
    {
      "cell_type": "code",
      "source": [
        "# ----------------------------------\n",
        "# Step 9: Define and Train the GBM Model (XGBoost)\n",
        "# ----------------------------------\n",
        "print(\"\\n--- Defining and Training Final XGBoost Model (using constructor for early stopping) ---\")\n",
        "\n",
        "# Pass early_stopping_rounds during initialization\n",
        "xgb_model = xgb.XGBRegressor(\n",
        "    objective='reg:squarederror',      # Objective function for regression\n",
        "    n_estimators=xgb_n_estimators,\n",
        "    learning_rate=xgb_learning_rate,\n",
        "    max_depth=xgb_max_depth,\n",
        "    subsample=xgb_subsample,\n",
        "    colsample_bytree=xgb_colsample_bytree,\n",
        "    random_state=RANDOM_STATE,\n",
        "    n_jobs=-1,                         # Use all available CPU cores\n",
        "    early_stopping_rounds=15           # <<< Pass early stopping here\n",
        ")\n",
        "\n",
        "print(\"Training XGBoost model...\")\n",
        "\n",
        "# Train the XGBoost model. eval_set is still needed for early stopping to function.\n",
        "xgb_model.fit(X_train_combined, y_train,\n",
        "              eval_set=[(X_test_combined, y_test)], # Evaluate on test set during training\n",
        "              verbose=False)                         # Set to True to see training progress\n",
        "\n",
        "# With early_stopping_rounds in the constructor, the model automatically uses\n",
        "# the eval_set provided in fit() to perform early stopping and retains the best model.\n",
        "# You can still access the best iteration if needed:\n",
        "# print(f\"XGBoost Best Iteration: {xgb_model.best_iteration}\")\n",
        "\n",
        "\n",
        "print(\"XGBoost model training finished.\")"
      ],
      "metadata": {
        "colab": {
          "base_uri": "https://localhost:8080/"
        },
        "id": "awd-gw2MRNDU",
        "outputId": "6955bae5-b652-4f13-c4ec-c4dca8e690a4"
      },
      "id": "awd-gw2MRNDU",
      "execution_count": 176,
      "outputs": [
        {
          "output_type": "stream",
          "name": "stdout",
          "text": [
            "\n",
            "--- Defining and Training Final XGBoost Model (using constructor for early stopping) ---\n",
            "Training XGBoost model...\n",
            "XGBoost model training finished.\n"
          ]
        }
      ]
    },
    {
      "cell_type": "code",
      "execution_count": 177,
      "id": "d483da7d",
      "metadata": {
        "colab": {
          "base_uri": "https://localhost:8080/"
        },
        "id": "d483da7d",
        "outputId": "1e17ec64-caed-4bcc-d846-c94b264b57d2"
      },
      "outputs": [
        {
          "output_type": "stream",
          "name": "stdout",
          "text": [
            "XGBoost model training finished.\n"
          ]
        }
      ],
      "source": [
        "print(\"XGBoost model training finished.\")"
      ]
    },
    {
      "cell_type": "code",
      "execution_count": 178,
      "id": "da05abb0",
      "metadata": {
        "colab": {
          "base_uri": "https://localhost:8080/"
        },
        "id": "da05abb0",
        "outputId": "f976b5f4-0fda-4126-eb38-10f493825e29"
      },
      "outputs": [
        {
          "output_type": "stream",
          "name": "stdout",
          "text": [
            "\n",
            "--- Making Predictions on Test Set ---\n"
          ]
        }
      ],
      "source": [
        "# ----------------------------------\n",
        "# Step 10: Make Predictions\n",
        "# ----------------------------------\n",
        "print(\"\\n--- Making Predictions on Test Set ---\")\n",
        "y_pred = xgb_model.predict(X_test_combined)"
      ]
    },
    {
      "cell_type": "code",
      "execution_count": 179,
      "id": "d34960fc",
      "metadata": {
        "colab": {
          "base_uri": "https://localhost:8080/"
        },
        "id": "d34960fc",
        "outputId": "e70b84c7-8134-42b8-8746-d0096f5150c2"
      },
      "outputs": [
        {
          "output_type": "stream",
          "name": "stdout",
          "text": [
            "\n",
            "--- Evaluating GeoChemBoost-GCV Model Performance ---\n"
          ]
        }
      ],
      "source": [
        "# ----------------------------------\n",
        "# Step 11: Evaluate the Model\n",
        "# ----------------------------------\n",
        "print(\"\\n--- Evaluating GeoChemBoost-GCV Model Performance ---\")\n",
        "rmse = np.sqrt(mean_squared_error(y_test, y_pred))\n",
        "mae = mean_absolute_error(y_test, y_pred)\n",
        "r2 = r2_score(y_test, y_pred)"
      ]
    },
    {
      "cell_type": "code",
      "execution_count": 180,
      "id": "1eca81a4",
      "metadata": {
        "colab": {
          "base_uri": "https://localhost:8080/"
        },
        "id": "1eca81a4",
        "outputId": "d2d83227-f1e1-4eae-fbc8-1126d5dfce35"
      },
      "outputs": [
        {
          "output_type": "stream",
          "name": "stdout",
          "text": [
            "Evaluation Metrics on Test Set:\n",
            "  RMSE: 131.6472\n",
            "  MAE:  91.0155\n",
            "  R²:   0.9837\n"
          ]
        }
      ],
      "source": [
        "print(f\"Evaluation Metrics on Test Set:\")\n",
        "print(f\"  RMSE: {rmse:.4f}\")\n",
        "print(f\"  MAE:  {mae:.4f}\")\n",
        "print(f\"  R²:   {r2:.4f}\")"
      ]
    },
    {
      "cell_type": "code",
      "execution_count": 181,
      "id": "f060af54",
      "metadata": {
        "lines_to_next_cell": 2,
        "colab": {
          "base_uri": "https://localhost:8080/"
        },
        "id": "f060af54",
        "outputId": "1a1e9a39-1363-4af4-98a6-c2f368907b3a"
      },
      "outputs": [
        {
          "output_type": "stream",
          "name": "stdout",
          "text": [
            "\n",
            "--- GeoChemBoost-GCV Task Completed ---\n"
          ]
        }
      ],
      "source": [
        "print(\"\\n--- GeoChemBoost-GCV Task Completed ---\")"
      ]
    },
    {
      "cell_type": "code",
      "source": [
        "# Save Keras embedding model in native format\n",
        "gfen_embedder_model.save('gfen_embedder_model4.keras')  # recommended\n",
        "\n",
        "# Save XGBoost model\n",
        "import joblib\n",
        "joblib.dump(xgb_model, 'xgb_model4.pkl')\n",
        "\n",
        "# Save scaler\n",
        "joblib.dump(scaler, 'scaler4.pkl')\n"
      ],
      "metadata": {
        "colab": {
          "base_uri": "https://localhost:8080/"
        },
        "id": "0bfpY0OrjBKY",
        "outputId": "253416e6-f341-4867-9ac2-ace3d5b71606"
      },
      "id": "0bfpY0OrjBKY",
      "execution_count": 182,
      "outputs": [
        {
          "output_type": "execute_result",
          "data": {
            "text/plain": [
              "['scaler4.pkl']"
            ]
          },
          "metadata": {},
          "execution_count": 182
        }
      ]
    }
  ],
  "metadata": {
    "jupytext": {
      "cell_metadata_filter": "-all",
      "encoding": "# -*- coding: utf-8 -*-",
      "main_language": "python",
      "notebook_metadata_filter": "-all"
    },
    "colab": {
      "provenance": []
    },
    "language_info": {
      "name": "python"
    },
    "kernelspec": {
      "name": "python3",
      "display_name": "Python 3"
    }
  },
  "nbformat": 4,
  "nbformat_minor": 5
}